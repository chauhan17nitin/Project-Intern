{
 "cells": [
  {
   "cell_type": "code",
   "execution_count": 1,
   "metadata": {},
   "outputs": [
    {
     "name": "stderr",
     "output_type": "stream",
     "text": [
      "C:\\Anaconda3\\lib\\site-packages\\h5py\\__init__.py:36: FutureWarning: Conversion of the second argument of issubdtype from `float` to `np.floating` is deprecated. In future, it will be treated as `np.float64 == np.dtype(float).type`.\n",
      "  from ._conv import register_converters as _register_converters\n",
      "Using TensorFlow backend.\n"
     ]
    }
   ],
   "source": [
    "#importing the Libraries that are required for the work\n",
    "import keras\n",
    "from keras.models import Sequential\n",
    "from keras.layers import Dense, Dropout, Flatten\n",
    "from keras.layers import Conv2D, MaxPooling2D\n",
    "from keras import backend as K\n",
    "import matplotlib.pyplot as plt\n",
    "from keras.preprocessing.image import ImageDataGenerator\n",
    "import pickle\n",
    "import numpy as np\n",
    "import pandas as pd\n",
    "from sklearn.model_selection import train_test_split\n"
   ]
  },
  {
   "cell_type": "code",
   "execution_count": 2,
   "metadata": {},
   "outputs": [],
   "source": [
    "# loding the training image data and training labels\n",
    "with open('train_image.pkl','rb') as f:\n",
    "    train_data = pickle.load(f)\n",
    "    \n",
    "with open('train_label.pkl','rb') as f:\n",
    "    train_label = pickle.load(f)\n"
   ]
  },
  {
   "cell_type": "code",
   "execution_count": 3,
   "metadata": {},
   "outputs": [],
   "source": [
    "# loading the test data on which the prediction is to be done\n",
    "with open('test_image.pkl','rb') as f:\n",
    "    predict_data = pickle.load(f)\n",
    "# checking the size of data to be predicted\n",
    "length = len(predict_data)"
   ]
  },
  {
   "cell_type": "code",
   "execution_count": 4,
   "metadata": {},
   "outputs": [],
   "source": [
    "# converting the label 6 to 1 so that it will be helpful for categorical encoding of labels\n",
    "label = []\n",
    "for x in train_label:\n",
    "    if(x == 6):\n",
    "        x = 1\n",
    "    label.append(x)"
   ]
  },
  {
   "cell_type": "code",
   "execution_count": 5,
   "metadata": {},
   "outputs": [],
   "source": [
    "# converting the data that is in list form to a numpy array for future comfort in the work \n",
    "train_data = np.array(train_data)    \n",
    "label = np.array(label) \n",
    "predict_data = np.array(predict_data) \n",
    "   \n",
    "# Defining some constraints for future use\n",
    "img_rows, img_cols = 28, 28  # as image data is of 784 = 28*28\n",
    "batch_size = 64\n",
    "num_classes = 4\n",
    "epochs = 40\n"
   ]
  },
  {
   "cell_type": "code",
   "execution_count": 6,
   "metadata": {},
   "outputs": [],
   "source": [
    "# splitting the test and train data from the training dataset to check the accuracy of the model and visualize graph\n",
    "# But the actually submitted csv file was trained on whole training dataset \n",
    "x_train, x_test , y_train , y_test = train_test_split(train_data, label, test_size = 0.15,random_state = 42)\n"
   ]
  },
  {
   "cell_type": "code",
   "execution_count": 7,
   "metadata": {},
   "outputs": [],
   "source": [
    "# As the data given is flatenned initially so we need to reshape it to 28*28 so that we can apply CNN layers to the image dataset\n",
    "\n",
    "if K.image_data_format() == 'channels_first':\n",
    "    x_train = x_train.reshape(x_train.shape[0], 1, img_rows, img_cols)\n",
    "    x_test = x_test.reshape(x_test.shape[0], 1, img_rows, img_cols)\n",
    "    predict_data = predict_data.reshape(predict_data.shape[0], 1, img_rows, img_cols)\n",
    "    input_shape = (1, img_rows, img_cols)\n",
    "else:\n",
    "    x_train = x_train.reshape(x_train.shape[0], img_rows, img_cols, 1)\n",
    "    x_test = x_test.reshape(x_test.shape[0], img_rows, img_cols, 1)\n",
    "    predict_data = predict_data.reshape(predict_data.shape[0], img_rows, img_cols,1)\n",
    "    input_shape = (img_rows, img_cols, 1)\n",
    "    \n",
    " "
   ]
  },
  {
   "cell_type": "code",
   "execution_count": 8,
   "metadata": {},
   "outputs": [],
   "source": [
    "# Doing feature Scaling of the dataset so that all its values are between 0 and 1\n",
    "# an orthodox method for improving accuracy\n",
    "x_train = x_train.astype('float32')\n",
    "x_test = x_test.astype('float32')\n",
    "predict_data = predict_data.astype('float32')\n",
    "x_train /= 255\n",
    "x_test /= 255\n",
    "predict_data /=255"
   ]
  },
  {
   "cell_type": "code",
   "execution_count": 9,
   "metadata": {},
   "outputs": [],
   "source": [
    "# Categorical Encoding of Labels so that no label have more priority than the other\n",
    "y_train = keras.utils.to_categorical(y_train, num_classes)\n",
    "y_test = keras.utils.to_categorical(y_test, num_classes)\n"
   ]
  },
  {
   "cell_type": "code",
   "execution_count": 10,
   "metadata": {},
   "outputs": [
    {
     "name": "stdout",
     "output_type": "stream",
     "text": [
      "_________________________________________________________________\n",
      "Layer (type)                 Output Shape              Param #   \n",
      "=================================================================\n",
      "conv2d_1 (Conv2D)            (None, 26, 26, 32)        320       \n",
      "_________________________________________________________________\n",
      "conv2d_2 (Conv2D)            (None, 24, 24, 64)        18496     \n",
      "_________________________________________________________________\n",
      "max_pooling2d_1 (MaxPooling2 (None, 12, 12, 64)        0         \n",
      "_________________________________________________________________\n",
      "dropout_1 (Dropout)          (None, 12, 12, 64)        0         \n",
      "_________________________________________________________________\n",
      "flatten_1 (Flatten)          (None, 9216)              0         \n",
      "_________________________________________________________________\n",
      "dense_1 (Dense)              (None, 128)               1179776   \n",
      "_________________________________________________________________\n",
      "dropout_2 (Dropout)          (None, 128)               0         \n",
      "_________________________________________________________________\n",
      "dense_2 (Dense)              (None, 4)                 516       \n",
      "=================================================================\n",
      "Total params: 1,199,108\n",
      "Trainable params: 1,199,108\n",
      "Non-trainable params: 0\n",
      "_________________________________________________________________\n"
     ]
    }
   ],
   "source": [
    "# Defining the neural network architecture proposed using 2 CNN layers 1 Maxpooling layer and 1 Dense layer \n",
    "# and the other layer is rthe output layer\n",
    "# using Dropout to reduce overfitting\n",
    "model = Sequential()\n",
    "model.add(Conv2D(32, kernel_size=(3, 3), activation='relu', input_shape=input_shape))\n",
    "model.add(Conv2D(64, (3, 3), activation='relu'))\n",
    "model.add(MaxPooling2D(pool_size=(2, 2)))\n",
    "model.add(Dropout(0.25))\n",
    "model.add(Flatten())\n",
    "model.add(Dense(128, activation='relu'))\n",
    "model.add(Dropout(0.25))\n",
    "model.add(Dense(num_classes, activation='softmax'))\n",
    "model.summary()\n",
    "# used binary_crossentropy instead of categorical_crossentropy as it it seems on testing that the classes are somewhere related\n",
    "# to each other so this give better results\n",
    "model.compile(optimizer='Adadelta', loss='binary_crossentropy', metrics=['accuracy'])\n"
   ]
  },
  {
   "cell_type": "code",
   "execution_count": 11,
   "metadata": {},
   "outputs": [],
   "source": [
    "# using image augmentation to create a variety in training dataset for best results\n",
    "datagen = ImageDataGenerator(\n",
    "        featurewise_center=False,  # set input mean to 0 over the dataset\n",
    "        samplewise_center=False,  # set each sample mean to 0\n",
    "        featurewise_std_normalization=False,  # divide inputs by std of the dataset\n",
    "        samplewise_std_normalization=False,  # divide each input by its std\n",
    "        zca_whitening=False,  # apply ZCA whitening\n",
    "        rotation_range=10,  # randomly rotate images in the range (degrees, 0 to 180)\n",
    "        zoom_range = 0.1, # Randomly zoom image \n",
    "        width_shift_range=0.1,  # randomly shift images horizontally (fraction of total width)\n",
    "        height_shift_range=0.1,  # randomly shift images vertically (fraction of total height)\n",
    "        horizontal_flip=False,  # randomly flip images\n",
    "        vertical_flip=False)  # randomly flip images\n",
    "# fitting the image augmentation to training dataset\n",
    "datagen.fit(x_train) \n",
    " "
   ]
  },
  {
   "cell_type": "code",
   "execution_count": 12,
   "metadata": {},
   "outputs": [
    {
     "name": "stdout",
     "output_type": "stream",
     "text": [
      "Train on 6460 samples, validate on 340 samples\n",
      "Epoch 1/40\n",
      " - 10s - loss: 0.3312 - acc: 0.8449 - val_loss: 0.2490 - val_acc: 0.8978\n",
      "Epoch 2/40\n",
      " - 4s - loss: 0.2332 - acc: 0.8999 - val_loss: 0.2189 - val_acc: 0.8934\n",
      "Epoch 3/40\n",
      " - 4s - loss: 0.1996 - acc: 0.9177 - val_loss: 0.2086 - val_acc: 0.9154\n",
      "Epoch 4/40\n",
      " - 4s - loss: 0.1830 - acc: 0.9217 - val_loss: 0.1832 - val_acc: 0.9257\n",
      "Epoch 5/40\n",
      " - 4s - loss: 0.1648 - acc: 0.9314 - val_loss: 0.1746 - val_acc: 0.9213\n",
      "Epoch 6/40\n",
      " - 4s - loss: 0.1560 - acc: 0.9357 - val_loss: 0.1768 - val_acc: 0.9213\n",
      "Epoch 7/40\n",
      " - 4s - loss: 0.1437 - acc: 0.9409 - val_loss: 0.1683 - val_acc: 0.9243\n",
      "Epoch 8/40\n",
      " - 5s - loss: 0.1352 - acc: 0.9459 - val_loss: 0.1713 - val_acc: 0.9213\n",
      "Epoch 9/40\n",
      " - 4s - loss: 0.1258 - acc: 0.9469 - val_loss: 0.1682 - val_acc: 0.9228\n",
      "Epoch 10/40\n",
      " - 5s - loss: 0.1213 - acc: 0.9510 - val_loss: 0.1625 - val_acc: 0.9412\n",
      "Epoch 11/40\n",
      " - 5s - loss: 0.1108 - acc: 0.9557 - val_loss: 0.1776 - val_acc: 0.9309\n",
      "Epoch 12/40\n",
      " - 5s - loss: 0.1020 - acc: 0.9602 - val_loss: 0.1686 - val_acc: 0.9265\n",
      "Epoch 13/40\n",
      " - 5s - loss: 0.0950 - acc: 0.9622 - val_loss: 0.1716 - val_acc: 0.9309\n",
      "Epoch 14/40\n",
      " - 5s - loss: 0.0867 - acc: 0.9671 - val_loss: 0.1595 - val_acc: 0.9338\n",
      "Epoch 15/40\n",
      " - 4s - loss: 0.0826 - acc: 0.9683 - val_loss: 0.1805 - val_acc: 0.9294\n",
      "Epoch 16/40\n",
      " - 5s - loss: 0.0752 - acc: 0.9709 - val_loss: 0.1831 - val_acc: 0.9294\n",
      "Epoch 17/40\n",
      " - 4s - loss: 0.0655 - acc: 0.9761 - val_loss: 0.2070 - val_acc: 0.9309\n",
      "Epoch 18/40\n",
      " - 4s - loss: 0.0598 - acc: 0.9776 - val_loss: 0.2041 - val_acc: 0.9294\n",
      "Epoch 19/40\n",
      " - 4s - loss: 0.0563 - acc: 0.9797 - val_loss: 0.1866 - val_acc: 0.9382\n",
      "Epoch 20/40\n",
      " - 4s - loss: 0.0499 - acc: 0.9816 - val_loss: 0.1846 - val_acc: 0.9360\n",
      "Epoch 21/40\n",
      " - 4s - loss: 0.0448 - acc: 0.9838 - val_loss: 0.2096 - val_acc: 0.9228\n",
      "Epoch 22/40\n",
      " - 4s - loss: 0.0392 - acc: 0.9851 - val_loss: 0.2344 - val_acc: 0.9221\n",
      "Epoch 23/40\n",
      " - 4s - loss: 0.0383 - acc: 0.9865 - val_loss: 0.2115 - val_acc: 0.9338\n",
      "Epoch 24/40\n",
      " - 5s - loss: 0.0344 - acc: 0.9873 - val_loss: 0.2288 - val_acc: 0.9272\n",
      "Epoch 25/40\n",
      " - 5s - loss: 0.0295 - acc: 0.9895 - val_loss: 0.2068 - val_acc: 0.9353\n",
      "Epoch 26/40\n",
      " - 5s - loss: 0.0287 - acc: 0.9903 - val_loss: 0.2393 - val_acc: 0.9287\n",
      "Epoch 27/40\n",
      " - 5s - loss: 0.0236 - acc: 0.9920 - val_loss: 0.2394 - val_acc: 0.9331\n",
      "Epoch 28/40\n",
      " - 5s - loss: 0.0238 - acc: 0.9914 - val_loss: 0.2208 - val_acc: 0.9375\n",
      "Epoch 29/40\n",
      " - 5s - loss: 0.0195 - acc: 0.9936 - val_loss: 0.2588 - val_acc: 0.9338\n",
      "Epoch 30/40\n",
      " - 5s - loss: 0.0198 - acc: 0.9930 - val_loss: 0.2347 - val_acc: 0.9353\n",
      "Epoch 31/40\n",
      " - 5s - loss: 0.0180 - acc: 0.9941 - val_loss: 0.2518 - val_acc: 0.9331\n",
      "Epoch 32/40\n",
      " - 5s - loss: 0.0192 - acc: 0.9928 - val_loss: 0.2232 - val_acc: 0.9375\n",
      "Epoch 33/40\n",
      " - 5s - loss: 0.0130 - acc: 0.9962 - val_loss: 0.2714 - val_acc: 0.9338\n",
      "Epoch 34/40\n",
      " - 5s - loss: 0.0167 - acc: 0.9947 - val_loss: 0.2423 - val_acc: 0.9331\n",
      "Epoch 35/40\n",
      " - 5s - loss: 0.0126 - acc: 0.9958 - val_loss: 0.2586 - val_acc: 0.9316\n",
      "Epoch 36/40\n",
      " - 5s - loss: 0.0115 - acc: 0.9967 - val_loss: 0.2540 - val_acc: 0.9287\n",
      "Epoch 37/40\n",
      " - 5s - loss: 0.0117 - acc: 0.9961 - val_loss: 0.2801 - val_acc: 0.9324\n",
      "Epoch 38/40\n",
      " - 5s - loss: 0.0103 - acc: 0.9970 - val_loss: 0.3090 - val_acc: 0.9346\n",
      "Epoch 39/40\n",
      " - 5s - loss: 0.0096 - acc: 0.9969 - val_loss: 0.3016 - val_acc: 0.9346\n",
      "Epoch 40/40\n",
      " - 5s - loss: 0.0107 - acc: 0.9965 - val_loss: 0.2953 - val_acc: 0.9382\n"
     ]
    },
    {
     "data": {
      "image/png": "[encoded data removed]",
      "text/plain": [
       "<Figure size 432x288 with 1 Axes>"
      ]
     },
     "metadata": {},
     "output_type": "display_data"
    },
    {
     "name": "stdout",
     "output_type": "stream",
     "text": [
      "\n",
      "Test loss: 0.284\n",
      "Test accuracy: 0.931\n"
     ]
    }
   ],
   "source": [
    "# fitting the proposed model to the dataset and visualizing the results and finding accuracy on validation set and test set  \n",
    "history = model.fit(x_train, y_train, batch_size=batch_size,epochs=epochs, validation_split=.05, verbose=2)\n",
    "loss, accuracy  = model.evaluate(x_test, y_test, verbose=0)\n",
    "\n",
    "plt.plot(history.history['acc'])\n",
    "plt.plot(history.history['val_acc'])\n",
    "plt.title('model accuracy')\n",
    "plt.ylabel('accuracy')\n",
    "plt.xlabel('epoch')\n",
    "plt.legend(['training', 'validation'], loc='best')\n",
    "plt.show()\n",
    "\n",
    "print()\n",
    "print(f'Test loss: {loss:.3}')\n",
    "print(f'Test accuracy: {accuracy:.3}')\n"
   ]
  },
  {
   "cell_type": "code",
   "execution_count": 13,
   "metadata": {},
   "outputs": [],
   "source": [
    "#now predicting the results for the given test data and saving it to a csv file\n",
    "results = model.predict(predict_data)  \n",
    "results = np.argmax(results,axis = 1)\n",
    "results = pd.Series(results,name=\"class\")\n",
    "# replacing the class having index 1 to 6 as its correct label is 6\n",
    "result = results.replace(to_replace=1, value=6)\n",
    "\n",
    "submission = pd.concat([pd.Series(range(0,length),name = \"image_index\"),result],axis = 1)\n",
    "\n",
    "submission.to_csv(\"nitin_chauhan.csv\",index=False)\n",
    "    "
   ]
  }
 ],
 "metadata": {
  "kernelspec": {
   "display_name": "Python 3",
   "language": "python",
   "name": "python3"
  },
  "language_info": {
   "codemirror_mode": {
    "name": "ipython",
    "version": 3
   },
   "file_extension": ".py",
   "mimetype": "text/x-python",
   "name": "python",
   "nbconvert_exporter": "python",
   "pygments_lexer": "ipython3",
   "version": "3.6.5"
  }
 },
 "nbformat": 4,
 "nbformat_minor": 2
}
