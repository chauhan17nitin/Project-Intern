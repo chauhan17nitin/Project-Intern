{
 "cells": [
  {
   "cell_type": "code",
   "execution_count": 1,
   "metadata": {},
   "outputs": [
    {
     "name": "stderr",
     "output_type": "stream",
     "text": [
      "C:\\Anaconda3\\lib\\site-packages\\h5py\\__init__.py:36: FutureWarning: Conversion of the second argument of issubdtype from `float` to `np.floating` is deprecated. In future, it will be treated as `np.float64 == np.dtype(float).type`.\n",
      "  from ._conv import register_converters as _register_converters\n",
      "Using TensorFlow backend.\n"
     ]
    }
   ],
   "source": [
    "#importing the Libraries that are required for the work\n",
    "import keras\n",
    "from keras.models import Sequential\n",
    "from keras.layers import Dense, Dropout, Flatten\n",
    "from keras.layers import Conv2D, MaxPooling2D\n",
    "from keras import backend as K\n",
    "import matplotlib.pyplot as plt\n",
    "from keras.preprocessing.image import ImageDataGenerator\n",
    "import pickle\n",
    "import numpy as np\n",
    "import pandas as pd\n",
    "from sklearn.model_selection import train_test_split\n"
   ]
  },
  {
   "cell_type": "code",
   "execution_count": 2,
   "metadata": {},
   "outputs": [],
   "source": [
    "# loding the training image data and training labels\n",
    "with open('train_image.pkl','rb') as f:\n",
    "    train_data = pickle.load(f)\n",
    "    \n",
    "with open('train_label.pkl','rb') as f:\n",
    "    train_label = pickle.load(f)\n"
   ]
  },
  {
   "cell_type": "code",
   "execution_count": 3,
   "metadata": {},
   "outputs": [],
   "source": [
    "# loading the test data on which the prediction is to be done\n",
    "with open('test_image.pkl','rb') as f:\n",
    "    predict_data = pickle.load(f)\n",
    "# checking the size of data to be predicted\n",
    "length = len(predict_data)"
   ]
  },
  {
   "cell_type": "code",
   "execution_count": 4,
   "metadata": {},
   "outputs": [],
   "source": [
    "# converting the label 6 to 1 so that it will be helpful for categorical encoding of labels\n",
    "label = []\n",
    "for x in train_label:\n",
    "    if(x == 6):\n",
    "        x = 1\n",
    "    label.append(x)"
   ]
  },
  {
   "cell_type": "code",
   "execution_count": 5,
   "metadata": {},
   "outputs": [],
   "source": [
    "# converting the data that is in list form to a numpy array for future comfort in the work \n",
    "train_data = np.array(train_data)    \n",
    "label = np.array(label) \n",
    "predict_data = np.array(predict_data) \n",
    "   \n",
    "# Defining some constraints for future use\n",
    "img_rows, img_cols = 28, 28  # as image data is of 784 = 28*28\n",
    "batch_size = 64\n",
    "num_classes = 4\n",
    "epochs = 40\n"
   ]
  },
  {
   "cell_type": "code",
   "execution_count": 6,
   "metadata": {},
   "outputs": [],
   "source": [
    "# splitting the test and train data from the training dataset to check the accuracy of the model and visualize graph\n",
    "# But the actually submitted csv file was trained on whole training dataset \n",
    "x_train, x_test , y_train , y_test = train_test_split(train_data, label, test_size = 0.05,random_state = 42)\n"
   ]
  },
  {
   "cell_type": "code",
   "execution_count": 7,
   "metadata": {},
   "outputs": [],
   "source": [
    "# As the data given is flatenned initially so we need to reshape it to 28*28 so that we can apply CNN layers to the image dataset\n",
    "\n",
    "if K.image_data_format() == 'channels_first':\n",
    "    x_train = x_train.reshape(x_train.shape[0], 1, img_rows, img_cols)\n",
    "    x_test = x_test.reshape(x_test.shape[0], 1, img_rows, img_cols)\n",
    "    predict_data = predict_data.reshape(predict_data.shape[0], 1, img_rows, img_cols)\n",
    "    input_shape = (1, img_rows, img_cols)\n",
    "else:\n",
    "    x_train = x_train.reshape(x_train.shape[0], img_rows, img_cols, 1)\n",
    "    x_test = x_test.reshape(x_test.shape[0], img_rows, img_cols, 1)\n",
    "    predict_data = predict_data.reshape(predict_data.shape[0], img_rows, img_cols,1)\n",
    "    input_shape = (img_rows, img_cols, 1)\n",
    "    \n",
    " "
   ]
  },
  {
   "cell_type": "code",
   "execution_count": 8,
   "metadata": {},
   "outputs": [],
   "source": [
    "# Doing feature Scaling of the dataset so that all its values are between 0 and 1\n",
    "# an orthodox method for improving accuracy\n",
    "x_train = x_train.astype('float32')\n",
    "x_test = x_test.astype('float32')\n",
    "predict_data = predict_data.astype('float32')\n",
    "x_train /= 255\n",
    "x_test /= 255\n",
    "predict_data /=255"
   ]
  },
  {
   "cell_type": "code",
   "execution_count": 9,
   "metadata": {},
   "outputs": [],
   "source": [
    "# Categorical Encoding of Labels so that no label have more priority than the other\n",
    "y_train = keras.utils.to_categorical(y_train, num_classes)\n",
    "y_test = keras.utils.to_categorical(y_test, num_classes)\n"
   ]
  },
  {
   "cell_type": "code",
   "execution_count": 10,
   "metadata": {},
   "outputs": [
    {
     "name": "stdout",
     "output_type": "stream",
     "text": [
      "_________________________________________________________________\n",
      "Layer (type)                 Output Shape              Param #   \n",
      "=================================================================\n",
      "conv2d_1 (Conv2D)            (None, 26, 26, 32)        320       \n",
      "_________________________________________________________________\n",
      "conv2d_2 (Conv2D)            (None, 24, 24, 64)        18496     \n",
      "_________________________________________________________________\n",
      "max_pooling2d_1 (MaxPooling2 (None, 12, 12, 64)        0         \n",
      "_________________________________________________________________\n",
      "dropout_1 (Dropout)          (None, 12, 12, 64)        0         \n",
      "_________________________________________________________________\n",
      "flatten_1 (Flatten)          (None, 9216)              0         \n",
      "_________________________________________________________________\n",
      "dense_1 (Dense)              (None, 128)               1179776   \n",
      "_________________________________________________________________\n",
      "dropout_2 (Dropout)          (None, 128)               0         \n",
      "_________________________________________________________________\n",
      "dense_2 (Dense)              (None, 4)                 516       \n",
      "=================================================================\n",
      "Total params: 1,199,108\n",
      "Trainable params: 1,199,108\n",
      "Non-trainable params: 0\n",
      "_________________________________________________________________\n"
     ]
    }
   ],
   "source": [
    "# Defining the neural network architecture proposed using 2 CNN layers 1 Maxpooling layer and 1 Dense layer \n",
    "# and the other layer is rthe output layer\n",
    "# using Dropout to reduce overfitting\n",
    "model = Sequential()\n",
    "model.add(Conv2D(32, kernel_size=(3, 3), activation='relu', input_shape=input_shape))\n",
    "model.add(Conv2D(64, (3, 3), activation='relu'))\n",
    "model.add(MaxPooling2D(pool_size=(2, 2)))\n",
    "model.add(Dropout(0.25))\n",
    "model.add(Flatten())\n",
    "model.add(Dense(128, activation='relu'))\n",
    "model.add(Dropout(0.25))\n",
    "model.add(Dense(num_classes, activation='softmax'))\n",
    "model.summary()\n",
    "# used binary_crossentropy instead of categorical_crossentropy as it it seems on testing that the classes are somewhere related\n",
    "# to each other so this give better results\n",
    "model.compile(optimizer='Adadelta', loss='binary_crossentropy', metrics=['accuracy'])\n"
   ]
  },
  {
   "cell_type": "code",
   "execution_count": 11,
   "metadata": {},
   "outputs": [],
   "source": [
    "# using image augmentation to create a variety in training dataset for best results\n",
    "datagen = ImageDataGenerator(\n",
    "        featurewise_center=False,  # set input mean to 0 over the dataset\n",
    "        samplewise_center=False,  # set each sample mean to 0\n",
    "        featurewise_std_normalization=False,  # divide inputs by std of the dataset\n",
    "        samplewise_std_normalization=False,  # divide each input by its std\n",
    "        zca_whitening=False,  # apply ZCA whitening\n",
    "        rotation_range=10,  # randomly rotate images in the range (degrees, 0 to 180)\n",
    "        zoom_range = 0.1, # Randomly zoom image \n",
    "        width_shift_range=0.1,  # randomly shift images horizontally (fraction of total width)\n",
    "        height_shift_range=0.1,  # randomly shift images vertically (fraction of total height)\n",
    "        horizontal_flip=False,  # randomly flip images\n",
    "        vertical_flip=False)  # randomly flip images\n",
    "# fitting the image augmentation to training dataset\n",
    "datagen.fit(x_train) \n",
    " "
   ]
  },
  {
   "cell_type": "code",
   "execution_count": 12,
   "metadata": {},
   "outputs": [
    {
     "name": "stdout",
     "output_type": "stream",
     "text": [
      "Train on 7220 samples, validate on 380 samples\n",
      "Epoch 1/40\n",
      " - 13s - loss: 0.3281 - acc: 0.8460 - val_loss: 0.2668 - val_acc: 0.8796\n",
      "Epoch 2/40\n",
      " - 5s - loss: 0.2367 - acc: 0.8983 - val_loss: 0.2199 - val_acc: 0.9158\n",
      "Epoch 3/40\n",
      " - 5s - loss: 0.2035 - acc: 0.9141 - val_loss: 0.1987 - val_acc: 0.9158\n",
      "Epoch 4/40\n",
      " - 5s - loss: 0.1826 - acc: 0.9241 - val_loss: 0.1932 - val_acc: 0.9145\n",
      "Epoch 5/40\n",
      " - 5s - loss: 0.1674 - acc: 0.9310 - val_loss: 0.1837 - val_acc: 0.9276\n",
      "Epoch 6/40\n",
      " - 5s - loss: 0.1544 - acc: 0.9369 - val_loss: 0.1756 - val_acc: 0.9263\n",
      "Epoch 7/40\n",
      " - 5s - loss: 0.1433 - acc: 0.9402 - val_loss: 0.1845 - val_acc: 0.9178\n",
      "Epoch 8/40\n",
      " - 5s - loss: 0.1337 - acc: 0.9448 - val_loss: 0.1735 - val_acc: 0.9263\n",
      "Epoch 9/40\n",
      " - 5s - loss: 0.1225 - acc: 0.9505 - val_loss: 0.1802 - val_acc: 0.9270\n",
      "Epoch 10/40\n",
      " - 5s - loss: 0.1141 - acc: 0.9538 - val_loss: 0.1921 - val_acc: 0.9237\n",
      "Epoch 11/40\n",
      " - 5s - loss: 0.1091 - acc: 0.9578 - val_loss: 0.1724 - val_acc: 0.9368\n",
      "Epoch 12/40\n",
      " - 5s - loss: 0.1005 - acc: 0.9597 - val_loss: 0.1724 - val_acc: 0.9283\n",
      "Epoch 13/40\n",
      " - 5s - loss: 0.0914 - acc: 0.9637 - val_loss: 0.1665 - val_acc: 0.9368\n",
      "Epoch 14/40\n",
      " - 5s - loss: 0.0832 - acc: 0.9673 - val_loss: 0.1704 - val_acc: 0.9336\n",
      "Epoch 15/40\n",
      " - 5s - loss: 0.0747 - acc: 0.9690 - val_loss: 0.1828 - val_acc: 0.9355\n",
      "Epoch 16/40\n",
      " - 5s - loss: 0.0713 - acc: 0.9713 - val_loss: 0.1817 - val_acc: 0.9342\n",
      "Epoch 17/40\n",
      " - 5s - loss: 0.0627 - acc: 0.9763 - val_loss: 0.1926 - val_acc: 0.9336\n",
      "Epoch 18/40\n",
      " - 5s - loss: 0.0565 - acc: 0.9798 - val_loss: 0.2066 - val_acc: 0.9349\n",
      "Epoch 19/40\n",
      " - 6s - loss: 0.0516 - acc: 0.9793 - val_loss: 0.2108 - val_acc: 0.9342\n",
      "Epoch 20/40\n",
      " - 5s - loss: 0.0454 - acc: 0.9834 - val_loss: 0.2276 - val_acc: 0.9368\n",
      "Epoch 21/40\n",
      " - 5s - loss: 0.0428 - acc: 0.9841 - val_loss: 0.2074 - val_acc: 0.9388\n",
      "Epoch 22/40\n",
      " - 5s - loss: 0.0389 - acc: 0.9859 - val_loss: 0.2039 - val_acc: 0.9309\n",
      "Epoch 23/40\n",
      " - 5s - loss: 0.0360 - acc: 0.9870 - val_loss: 0.2142 - val_acc: 0.9355\n",
      "Epoch 24/40\n",
      " - 5s - loss: 0.0308 - acc: 0.9886 - val_loss: 0.2169 - val_acc: 0.9362\n",
      "Epoch 25/40\n",
      " - 5s - loss: 0.0277 - acc: 0.9902 - val_loss: 0.2335 - val_acc: 0.9421\n",
      "Epoch 26/40\n",
      " - 5s - loss: 0.0278 - acc: 0.9901 - val_loss: 0.2428 - val_acc: 0.9395\n",
      "Epoch 27/40\n",
      " - 5s - loss: 0.0251 - acc: 0.9909 - val_loss: 0.2603 - val_acc: 0.9316\n",
      "Epoch 28/40\n",
      " - 5s - loss: 0.0219 - acc: 0.9919 - val_loss: 0.2317 - val_acc: 0.9368\n",
      "Epoch 29/40\n",
      " - 5s - loss: 0.0180 - acc: 0.9941 - val_loss: 0.2850 - val_acc: 0.9322\n",
      "Epoch 30/40\n",
      " - 5s - loss: 0.0179 - acc: 0.9940 - val_loss: 0.2496 - val_acc: 0.9382\n",
      "Epoch 31/40\n",
      " - 5s - loss: 0.0199 - acc: 0.9932 - val_loss: 0.2413 - val_acc: 0.9401\n",
      "Epoch 32/40\n",
      " - 5s - loss: 0.0145 - acc: 0.9955 - val_loss: 0.2550 - val_acc: 0.9388\n",
      "Epoch 33/40\n",
      " - 5s - loss: 0.0143 - acc: 0.9950 - val_loss: 0.2788 - val_acc: 0.9388\n",
      "Epoch 34/40\n",
      " - 5s - loss: 0.0145 - acc: 0.9954 - val_loss: 0.2396 - val_acc: 0.9434\n",
      "Epoch 35/40\n",
      " - 5s - loss: 0.0131 - acc: 0.9957 - val_loss: 0.2654 - val_acc: 0.9441\n",
      "Epoch 36/40\n",
      " - 5s - loss: 0.0121 - acc: 0.9960 - val_loss: 0.2591 - val_acc: 0.9388\n",
      "Epoch 37/40\n",
      " - 5s - loss: 0.0113 - acc: 0.9961 - val_loss: 0.2504 - val_acc: 0.9368\n",
      "Epoch 38/40\n",
      " - 5s - loss: 0.0096 - acc: 0.9970 - val_loss: 0.2748 - val_acc: 0.9388\n",
      "Epoch 39/40\n",
      " - 5s - loss: 0.0115 - acc: 0.9956 - val_loss: 0.2542 - val_acc: 0.9507\n",
      "Epoch 40/40\n",
      " - 5s - loss: 0.0086 - acc: 0.9973 - val_loss: 0.2691 - val_acc: 0.9395\n"
     ]
    },
    {
     "data": {
      "image/png": "[encoded data removed]",
      "text/plain": [
       "<Figure size 432x288 with 1 Axes>"
      ]
     },
     "metadata": {},
     "output_type": "display_data"
    },
    {
     "name": "stdout",
     "output_type": "stream",
     "text": [
      "\n",
      "Test loss: 0.27\n",
      "Test accuracy: 0.936\n"
     ]
    }
   ],
   "source": [
    "# fitting the proposed model to the dataset and visualizing the results and finding accuracy on validation set and test set  \n",
    "history = model.fit(x_train, y_train, batch_size=batch_size,epochs=epochs, validation_split=.05, verbose=2)\n",
    "loss, accuracy  = model.evaluate(x_test, y_test, verbose=0)\n",
    "\n",
    "plt.plot(history.history['acc'])\n",
    "plt.plot(history.history['val_acc'])\n",
    "plt.title('model accuracy')\n",
    "plt.ylabel('accuracy')\n",
    "plt.xlabel('epoch')\n",
    "plt.legend(['training', 'validation'], loc='best')\n",
    "plt.show()\n",
    "\n",
    "print()\n",
    "print(f'Test loss: {loss:.3}')\n",
    "print(f'Test accuracy: {accuracy:.3}')\n"
   ]
  },
  {
   "cell_type": "code",
   "execution_count": 13,
   "metadata": {},
   "outputs": [],
   "source": [
    "#now predicting the results for the given test data and saving it to a csv file\n",
    "results = model.predict(predict_data)  \n",
    "results = np.argmax(results,axis = 1)\n",
    "results = pd.Series(results,name=\"class\")\n",
    "# replacing the class having index 1 to 6 as its correct label is 6\n",
    "result = results.replace(to_replace=1, value=6)\n",
    "\n",
    "submission = pd.concat([pd.Series(range(0,length),name = \"image_index\"),result],axis = 1)\n",
    "\n",
    "submission.to_csv(\"nitin_chauhan.csv\",index=False)\n",
    "    "
   ]
  }
 ],
 "metadata": {
  "kernelspec": {
   "display_name": "Python 3",
   "language": "python",
   "name": "python3"
  },
  "language_info": {
   "codemirror_mode": {
    "name": "ipython",
    "version": 3
   },
   "file_extension": ".py",
   "mimetype": "text/x-python",
   "name": "python",
   "nbconvert_exporter": "python",
   "pygments_lexer": "ipython3",
   "version": "3.6.5"
  }
 },
 "nbformat": 4,
 "nbformat_minor": 2
}
