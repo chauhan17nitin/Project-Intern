{
 "cells": [
  {
   "cell_type": "code",
   "execution_count": 1,
   "metadata": {},
   "outputs": [
    {
     "name": "stderr",
     "output_type": "stream",
     "text": [
      "C:\\Anaconda3\\lib\\site-packages\\h5py\\__init__.py:36: FutureWarning: Conversion of the second argument of issubdtype from `float` to `np.floating` is deprecated. In future, it will be treated as `np.float64 == np.dtype(float).type`.\n",
      "  from ._conv import register_converters as _register_converters\n",
      "Using TensorFlow backend.\n"
     ]
    }
   ],
   "source": [
    "#importing the Libraries that are required for the work\n",
    "import keras\n",
    "from keras.models import Sequential\n",
    "from keras.layers import Dense, Dropout, Flatten\n",
    "from keras.layers import Conv2D, MaxPooling2D\n",
    "from keras import backend as K\n",
    "import matplotlib.pyplot as plt\n",
    "import os\n",
    "from keras.preprocessing.image import ImageDataGenerator\n",
    "import pickle\n",
    "import numpy as np\n",
    "import pandas as pd\n",
    "from sklearn.model_selection import train_test_split\n",
    "from keras_tqdm import TQDMNotebookCallback\n"
   ]
  },
  {
   "cell_type": "code",
   "execution_count": 2,
   "metadata": {},
   "outputs": [],
   "source": [
    "# loding the training image data and training labels\n",
    "with open('train_image.pkl','rb') as f:\n",
    "    train_data = pickle.load(f)\n",
    "    \n",
    "with open('train_label.pkl','rb') as f:\n",
    "    train_label = pickle.load(f)\n"
   ]
  },
  {
   "cell_type": "code",
   "execution_count": 3,
   "metadata": {},
   "outputs": [],
   "source": [
    "# loading the test data on which the prediction is to be done\n",
    "with open('test_image.pkl','rb') as f:\n",
    "    predict_data = pickle.load(f)\n",
    "# checking the size of data to be predicted\n",
    "length = len(predict_data)"
   ]
  },
  {
   "cell_type": "code",
   "execution_count": 4,
   "metadata": {},
   "outputs": [],
   "source": [
    "# converting the label 6 to 1 so that it will be helpful for categorical encoding of labels\n",
    "label = []\n",
    "for x in train_label:\n",
    "    if(x == 6):\n",
    "        x = 1\n",
    "    label.append(x)"
   ]
  },
  {
   "cell_type": "code",
   "execution_count": 5,
   "metadata": {},
   "outputs": [],
   "source": [
    "# converting the data that is in list form to a numpy array for future comfort in the work \n",
    "train_data = np.array(train_data)    \n",
    "label = np.array(label) \n",
    "predict_data = np.array(predict_data) \n",
    "   \n",
    "# Defining some constraints for future use\n",
    "img_rows, img_cols = 28, 28  # as image data is of 784 = 28*28\n",
    "batch_size = 64\n",
    "num_classes = 4\n",
    "epochs = 40\n"
   ]
  },
  {
   "cell_type": "code",
   "execution_count": 6,
   "metadata": {},
   "outputs": [],
   "source": [
    "# splitting the test and train data from the training dataset to check the accuracy of the model and visualize graph\n",
    "# But the actually submitted csv file was trained on whole training dataset \n",
    "x_train, x_test , y_train , y_test = train_test_split(train_data, label, test_size = 0.15,random_state = 42)\n"
   ]
  },
  {
   "cell_type": "code",
   "execution_count": 14,
   "metadata": {},
   "outputs": [],
   "source": [
    "# As the data given is flatenned initially so we need to reshape it to 28*28 so that we can apply CNN layers to the image dataset\n",
    "\n",
    "if K.image_data_format() == 'channels_first':\n",
    "    x_train = x_train.reshape(x_train.shape[0], 1, img_rows, img_cols)\n",
    "    x_test = x_test.reshape(x_test.shape[0], 1, img_rows, img_cols)\n",
    "    predict_data = predict_data.reshape(predict_data.shape[0], 1, img_rows, img_cols)\n",
    "    input_shape = (1, img_rows, img_cols)\n",
    "else:\n",
    "    x_train = x_train.reshape(x_train.shape[0], img_rows, img_cols, 1)\n",
    "    x_test = x_test.reshape(x_test.shape[0], img_rows, img_cols, 1)\n",
    "    predict_data = predict_data.reshape(predict_data.shape[0], img_rows, img_cols,1)\n",
    "    input_shape = (img_rows, img_cols, 1)\n",
    "    \n",
    " "
   ]
  },
  {
   "cell_type": "code",
   "execution_count": 8,
   "metadata": {},
   "outputs": [],
   "source": [
    "# Doing feature Scaling of the dataset so that all its values are between 0 and 1\n",
    "# an orthodox method for improving accuracy\n",
    "x_train = x_train.astype('float32')\n",
    "x_test = x_test.astype('float32')\n",
    "predict_data = predict_data.astype('float32')\n",
    "x_train /= 255\n",
    "x_test /= 255\n",
    "predict_data /=255"
   ]
  },
  {
   "cell_type": "code",
   "execution_count": 9,
   "metadata": {},
   "outputs": [],
   "source": [
    "# Categorical Encoding of Labels so that no label have more priority than the other\n",
    "y_train = keras.utils.to_categorical(y_train, num_classes)\n",
    "y_test = keras.utils.to_categorical(y_test, num_classes)\n"
   ]
  },
  {
   "cell_type": "code",
   "execution_count": 10,
   "metadata": {},
   "outputs": [
    {
     "name": "stdout",
     "output_type": "stream",
     "text": [
      "_________________________________________________________________\n",
      "Layer (type)                 Output Shape              Param #   \n",
      "=================================================================\n",
      "conv2d_1 (Conv2D)            (None, 26, 26, 32)        320       \n",
      "_________________________________________________________________\n",
      "conv2d_2 (Conv2D)            (None, 24, 24, 64)        18496     \n",
      "_________________________________________________________________\n",
      "max_pooling2d_1 (MaxPooling2 (None, 12, 12, 64)        0         \n",
      "_________________________________________________________________\n",
      "dropout_1 (Dropout)          (None, 12, 12, 64)        0         \n",
      "_________________________________________________________________\n",
      "flatten_1 (Flatten)          (None, 9216)              0         \n",
      "_________________________________________________________________\n",
      "dense_1 (Dense)              (None, 128)               1179776   \n",
      "_________________________________________________________________\n",
      "dropout_2 (Dropout)          (None, 128)               0         \n",
      "_________________________________________________________________\n",
      "dense_2 (Dense)              (None, 4)                 516       \n",
      "=================================================================\n",
      "Total params: 1,199,108\n",
      "Trainable params: 1,199,108\n",
      "Non-trainable params: 0\n",
      "_________________________________________________________________\n"
     ]
    }
   ],
   "source": [
    "# Defining the neural network architecture proposed using 2 CNN layers 1 Maxpooling layer and 1 Dense layer \n",
    "# and the other layer is rthe output layer\n",
    "# using Dropout to reduce overfitting\n",
    "model = Sequential()\n",
    "model.add(Conv2D(32, kernel_size=(3, 3), activation='relu', input_shape=input_shape))\n",
    "model.add(Conv2D(64, (3, 3), activation='relu'))\n",
    "model.add(MaxPooling2D(pool_size=(2, 2)))\n",
    "model.add(Dropout(0.25))\n",
    "model.add(Flatten())\n",
    "model.add(Dense(128, activation='relu'))\n",
    "model.add(Dropout(0.25))\n",
    "model.add(Dense(num_classes, activation='softmax'))\n",
    "model.summary()\n",
    "# used binary_crossentropy instead of categorical_crossentropy as it it seems on testing that the classes are somewhere related\n",
    "# to each other so this give better results\n",
    "model.compile(optimizer='Adadelta', loss='binary_crossentropy', metrics=['accuracy'])\n"
   ]
  },
  {
   "cell_type": "code",
   "execution_count": 11,
   "metadata": {},
   "outputs": [],
   "source": [
    "# using image augmentation to create a variety in training dataset for best results\n",
    "datagen = ImageDataGenerator(\n",
    "        featurewise_center=False,  # set input mean to 0 over the dataset\n",
    "        samplewise_center=False,  # set each sample mean to 0\n",
    "        featurewise_std_normalization=False,  # divide inputs by std of the dataset\n",
    "        samplewise_std_normalization=False,  # divide each input by its std\n",
    "        zca_whitening=False,  # apply ZCA whitening\n",
    "        rotation_range=10,  # randomly rotate images in the range (degrees, 0 to 180)\n",
    "        zoom_range = 0.1, # Randomly zoom image \n",
    "        width_shift_range=0.1,  # randomly shift images horizontally (fraction of total width)\n",
    "        height_shift_range=0.1,  # randomly shift images vertically (fraction of total height)\n",
    "        horizontal_flip=False,  # randomly flip images\n",
    "        vertical_flip=False)  # randomly flip images\n",
    "# fitting the image augmentation to training dataset\n",
    "datagen.fit(x_train) \n",
    " "
   ]
  },
  {
   "cell_type": "code",
   "execution_count": 12,
   "metadata": {},
   "outputs": [
    {
     "name": "stdout",
     "output_type": "stream",
     "text": [
      "Train on 6392 samples, validate on 408 samples\n",
      "Epoch 1/40\n",
      " - 7s - loss: 0.3484 - acc: 0.8368 - val_loss: 0.2758 - val_acc: 0.8805\n",
      "Epoch 2/40\n",
      " - 4s - loss: 0.2504 - acc: 0.8913 - val_loss: 0.2307 - val_acc: 0.9032\n",
      "Epoch 3/40\n",
      " - 4s - loss: 0.2111 - acc: 0.9114 - val_loss: 0.1965 - val_acc: 0.9167\n",
      "Epoch 4/40\n",
      " - 4s - loss: 0.1908 - acc: 0.9192 - val_loss: 0.1885 - val_acc: 0.9246\n",
      "Epoch 5/40\n",
      " - 4s - loss: 0.1733 - acc: 0.9248 - val_loss: 0.1767 - val_acc: 0.9259\n",
      "Epoch 6/40\n",
      " - 4s - loss: 0.1628 - acc: 0.9332 - val_loss: 0.1748 - val_acc: 0.9308\n",
      "Epoch 7/40\n",
      " - 4s - loss: 0.1526 - acc: 0.9358 - val_loss: 0.1953 - val_acc: 0.9216\n",
      "Epoch 8/40\n",
      " - 4s - loss: 0.1448 - acc: 0.9411 - val_loss: 0.1768 - val_acc: 0.9246\n",
      "Epoch 9/40\n",
      " - 4s - loss: 0.1354 - acc: 0.9436 - val_loss: 0.1666 - val_acc: 0.9387\n",
      "Epoch 10/40\n",
      " - 4s - loss: 0.1272 - acc: 0.9487 - val_loss: 0.1638 - val_acc: 0.9301\n",
      "Epoch 11/40\n",
      " - 4s - loss: 0.1182 - acc: 0.9528 - val_loss: 0.1637 - val_acc: 0.9314\n",
      "Epoch 12/40\n",
      " - 4s - loss: 0.1096 - acc: 0.9559 - val_loss: 0.1727 - val_acc: 0.9271\n",
      "Epoch 13/40\n",
      " - 4s - loss: 0.1042 - acc: 0.9599 - val_loss: 0.1598 - val_acc: 0.9259\n",
      "Epoch 14/40\n",
      " - 4s - loss: 0.0932 - acc: 0.9638 - val_loss: 0.1709 - val_acc: 0.9332\n",
      "Epoch 15/40\n",
      " - 4s - loss: 0.0876 - acc: 0.9659 - val_loss: 0.1683 - val_acc: 0.9301\n",
      "Epoch 16/40\n",
      " - 4s - loss: 0.0822 - acc: 0.9660 - val_loss: 0.1658 - val_acc: 0.9283\n",
      "Epoch 17/40\n",
      " - 7s - loss: 0.0747 - acc: 0.9710 - val_loss: 0.1714 - val_acc: 0.9387\n",
      "Epoch 18/40\n",
      " - 7s - loss: 0.0683 - acc: 0.9742 - val_loss: 0.1764 - val_acc: 0.9369\n",
      "Epoch 19/40\n",
      " - 7s - loss: 0.0620 - acc: 0.9774 - val_loss: 0.1839 - val_acc: 0.9387\n",
      "Epoch 20/40\n",
      " - 7s - loss: 0.0605 - acc: 0.9785 - val_loss: 0.2090 - val_acc: 0.9283\n",
      "Epoch 21/40\n",
      " - 7s - loss: 0.0512 - acc: 0.9818 - val_loss: 0.1865 - val_acc: 0.9289\n",
      "Epoch 22/40\n",
      " - 7s - loss: 0.0495 - acc: 0.9808 - val_loss: 0.2152 - val_acc: 0.9357\n",
      "Epoch 23/40\n",
      " - 7s - loss: 0.0429 - acc: 0.9847 - val_loss: 0.2118 - val_acc: 0.9283\n",
      "Epoch 24/40\n",
      " - 7s - loss: 0.0385 - acc: 0.9856 - val_loss: 0.2119 - val_acc: 0.9326\n",
      "Epoch 25/40\n",
      " - 7s - loss: 0.0401 - acc: 0.9840 - val_loss: 0.2338 - val_acc: 0.9326\n",
      "Epoch 26/40\n",
      " - 7s - loss: 0.0361 - acc: 0.9863 - val_loss: 0.2347 - val_acc: 0.9228\n",
      "Epoch 27/40\n",
      " - 7s - loss: 0.0285 - acc: 0.9903 - val_loss: 0.2517 - val_acc: 0.9326\n",
      "Epoch 28/40\n",
      " - 7s - loss: 0.0308 - acc: 0.9887 - val_loss: 0.2194 - val_acc: 0.9338\n",
      "Epoch 29/40\n",
      " - 7s - loss: 0.0259 - acc: 0.9906 - val_loss: 0.2327 - val_acc: 0.9357\n",
      "Epoch 30/40\n",
      " - 7s - loss: 0.0226 - acc: 0.9926 - val_loss: 0.2431 - val_acc: 0.9326\n",
      "Epoch 31/40\n",
      " - 7s - loss: 0.0221 - acc: 0.9925 - val_loss: 0.2224 - val_acc: 0.9332\n",
      "Epoch 32/40\n",
      " - 7s - loss: 0.0194 - acc: 0.9932 - val_loss: 0.2583 - val_acc: 0.9369\n",
      "Epoch 33/40\n",
      " - 7s - loss: 0.0230 - acc: 0.9921 - val_loss: 0.2360 - val_acc: 0.9375\n",
      "Epoch 34/40\n",
      " - 7s - loss: 0.0184 - acc: 0.9933 - val_loss: 0.2508 - val_acc: 0.9387\n",
      "Epoch 35/40\n",
      " - 7s - loss: 0.0166 - acc: 0.9942 - val_loss: 0.2791 - val_acc: 0.9338\n",
      "Epoch 36/40\n",
      " - 7s - loss: 0.0129 - acc: 0.9966 - val_loss: 0.2675 - val_acc: 0.9387\n",
      "Epoch 37/40\n",
      " - 7s - loss: 0.0149 - acc: 0.9947 - val_loss: 0.2710 - val_acc: 0.9400\n",
      "Epoch 38/40\n",
      " - 7s - loss: 0.0140 - acc: 0.9953 - val_loss: 0.2854 - val_acc: 0.9363\n",
      "Epoch 39/40\n",
      " - 7s - loss: 0.0129 - acc: 0.9953 - val_loss: 0.2802 - val_acc: 0.9363\n",
      "Epoch 40/40\n",
      " - 7s - loss: 0.0118 - acc: 0.9964 - val_loss: 0.2589 - val_acc: 0.9363\n"
     ]
    },
    {
     "data": {
      "image/png": "[encoded data removed]",
      "text/plain": [
       "<Figure size 432x288 with 1 Axes>"
      ]
     },
     "metadata": {},
     "output_type": "display_data"
    },
    {
     "name": "stdout",
     "output_type": "stream",
     "text": [
      "\n",
      "Test loss: 0.266\n",
      "Test accuracy: 0.935\n"
     ]
    }
   ],
   "source": [
    "# fitting the proposed model to the dataset and visualizing the results and finding accuracy on validation set and test set  \n",
    "history = model.fit(x_train, y_train, batch_size=batch_size,epochs=epochs, validation_split=.06, verbose=2)\n",
    "loss, accuracy  = model.evaluate(x_test, y_test, verbose=0)\n",
    "\n",
    "plt.plot(history.history['acc'])\n",
    "plt.plot(history.history['val_acc'])\n",
    "plt.title('model accuracy')\n",
    "plt.ylabel('accuracy')\n",
    "plt.xlabel('epoch')\n",
    "plt.legend(['training', 'validation'], loc='best')\n",
    "plt.show()\n",
    "\n",
    "print()\n",
    "print(f'Test loss: {loss:.3}')\n",
    "print(f'Test accuracy: {accuracy:.3}')\n"
   ]
  },
  {
   "cell_type": "code",
   "execution_count": 16,
   "metadata": {},
   "outputs": [],
   "source": [
    "#now predicting the results for the given test data and saving it to a csv file\n",
    "results = model.predict(predict_data)  \n",
    "results = np.argmax(results,axis = 1)\n",
    "results = pd.Series(results,name=\"class\")\n",
    "# replacing the class having index 1 to 6 as its correct label is 6\n",
    "result = results.replace(to_replace=1, value=6)\n",
    "\n",
    "submission = pd.concat([pd.Series(range(0,length),name = \"image_index\"),result],axis = 1)\n",
    "\n",
    "submission.to_csv(\"nitin.csv\",index=False)\n",
    "    "
   ]
  }
 ],
 "metadata": {
  "kernelspec": {
   "display_name": "Python 3",
   "language": "python",
   "name": "python3"
  },
  "language_info": {
   "codemirror_mode": {
    "name": "ipython",
    "version": 3
   },
   "file_extension": ".py",
   "mimetype": "text/x-python",
   "name": "python",
   "nbconvert_exporter": "python",
   "pygments_lexer": "ipython3",
   "version": "3.6.5"
  }
 },
 "nbformat": 4,
 "nbformat_minor": 2
}
